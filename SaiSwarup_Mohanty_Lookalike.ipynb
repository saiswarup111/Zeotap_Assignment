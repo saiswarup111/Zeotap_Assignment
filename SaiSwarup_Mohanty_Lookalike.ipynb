{
  "metadata": {
    "kernelspec": {
      "name": "python",
      "display_name": "Python (Pyodide)",
      "language": "python"
    },
    "language_info": {
      "codemirror_mode": {
        "name": "python",
        "version": 3
      },
      "file_extension": ".py",
      "mimetype": "text/x-python",
      "name": "python",
      "nbconvert_exporter": "python",
      "pygments_lexer": "ipython3",
      "version": "3.8"
    }
  },
  "nbformat_minor": 5,
  "nbformat": 4,
  "cells": [
    {
      "id": "9c70e002-675c-4b93-9df0-c2fc1387e0c2",
      "cell_type": "code",
      "source": "import pandas as pd\nfrom sklearn.metrics.pairwise import cosine_similarity\nfrom sklearn.preprocessing import StandardScaler\n\n# Load datasets\ncustomers = pd.read_csv(\"Customers.csv\")\nproducts = pd.read_csv(\"Products.csv\")\ntransactions = pd.read_csv(\"Transactions.csv\")\n\n# Merge datasets for feature preparation\nmerged_data = transactions.merge(customers, on=\"CustomerID\", how=\"left\")\nmerged_data = merged_data.merge(products, on=\"ProductID\", how=\"left\")\n\n# Check columns in merged data\nprint(\"Columns in merged_data:\", merged_data.columns)\n\n# Use 'Price_y' as the correct price column\nagg_dict = {\n    \"TotalValue\": \"sum\",\n    \"Quantity\": \"sum\",\n    \"Price_y\": \"mean\",  # Adjusted to use 'Price_y'\n    \"Region\": lambda x: x.mode()[0],\n    \"Category\": lambda x: x.mode()[0]\n}\n\n# Aggregate data by CustomerID\ncustomer_features = merged_data.groupby(\"CustomerID\").agg(agg_dict).reset_index()\n\n# Rename 'Price_y' to 'Price' for clarity\ncustomer_features.rename(columns={\"Price_y\": \"Price\"}, inplace=True)\n\n# One-hot encode categorical variables\ncustomer_features_encoded = pd.get_dummies(customer_features, columns=[\"Region\", \"Category\"], drop_first=True)\n\n# Scale numerical features\nscaler = StandardScaler()\nscaled_features = scaler.fit_transform(customer_features_encoded.drop(\"CustomerID\", axis=1))\n\n# Compute similarity matrix\nsimilarity_matrix = cosine_similarity(scaled_features)\n\n# Create a DataFrame for the similarity matrix\nsimilarity_df = pd.DataFrame(similarity_matrix, index=customer_features[\"CustomerID\"], columns=customer_features[\"CustomerID\"])\n\n# Generate top 3 lookalike customers for each of the first 20 customers\nlookalike_map = {}\ncustomer_ids = customers[\"CustomerID\"].head(20)\nfor cust_id in customer_ids:\n    similar_customers = similarity_df[cust_id].sort_values(ascending=False).iloc[1:4]  # Exclude self\n    lookalike_map[cust_id] = list(zip(similar_customers.index, similar_customers.values))\n\n# Save results to Lookalike.csv\nlookalike_results = []\nfor cust_id, lookalikes in lookalike_map.items():\n    for similar_id, score in lookalikes:\n        lookalike_results.append({\"cust_id\": cust_id, \"similar_cust_id\": similar_id, \"score\": score})\n\nlookalike_df = pd.DataFrame(lookalike_results)\nlookalike_df.to_csv(\"Lookalike.csv\", index=False)\n\nprint(\"Lookalike recommendations saved to Lookalike.csv\")\n\n",
      "metadata": {
        "trusted": true
      },
      "outputs": [
        {
          "name": "stdout",
          "output_type": "stream",
          "text": "Columns in merged_data: Index(['TransactionID', 'CustomerID', 'ProductID', 'TransactionDate',\n       'Quantity', 'TotalValue', 'Price_x', 'CustomerName', 'Region',\n       'SignupDate', 'ProductName', 'Category', 'Price_y'],\n      dtype='object')\nLookalike recommendations saved to Lookalike.csv\n"
        }
      ],
      "execution_count": 5
    },
    {
      "id": "b1c728c5-bb26-4fda-8df3-b34afad813e1",
      "cell_type": "code",
      "source": "",
      "metadata": {
        "trusted": true
      },
      "outputs": [],
      "execution_count": null
    }
  ]
}